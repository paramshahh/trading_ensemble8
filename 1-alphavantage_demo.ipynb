{
 "cells": [
  {
   "cell_type": "markdown",
   "metadata": {},
   "source": [
    "# Alphavantage Intraday\n",
    "* API for \"real time\" stock data\n",
    "* Freeium model - sign up fro free account to get API key\n",
    "* Can make API calls directly or install the helper library:\n",
    "pip install alpha_vantage from the command line\n",
    "\n",
    "#### https://alphavantage.co"
   ]
  },
  {
   "cell_type": "markdown",
   "metadata": {},
   "source": [
    "### 1. Set up Environment"
   ]
  },
  {
   "cell_type": "code",
   "execution_count": null,
   "metadata": {},
   "outputs": [],
   "source": [
    "import pandas as pd\n",
    "import matplotlib.pyplot as plt\n",
    "from alpha_vantage.timeseries import TimeSeries\n",
    "import requests\n",
    "import json\n",
    "import numpy as np\n",
    "from datetime import datetime"
   ]
  },
  {
   "cell_type": "markdown",
   "metadata": {},
   "source": [
    "### 2. Store API Key"
   ]
  },
  {
   "cell_type": "code",
   "execution_count": 2,
   "metadata": {},
   "outputs": [],
   "source": [
    "key = open('/Users/paramshah/Desktop/project_chatbot/alphakey.txt').read()"
   ]
  },
  {
   "cell_type": "markdown",
   "metadata": {},
   "source": [
    "### 3. Create TimeSeries Object and Make API Call"
   ]
  },
  {
   "cell_type": "code",
   "execution_count": null,
   "metadata": {},
   "outputs": [],
   "source": [
    "ts = TimeSeries(key, output_format='pandas')\n",
    "data, meta = ts.get_intraday('INFY', interval='1min', outputsize='full')"
   ]
  },
  {
   "cell_type": "markdown",
   "metadata": {},
   "source": [
    "### 4. Examine Data"
   ]
  },
  {
   "cell_type": "code",
   "execution_count": null,
   "metadata": {},
   "outputs": [],
   "source": [
    "meta"
   ]
  },
  {
   "cell_type": "code",
   "execution_count": null,
   "metadata": {},
   "outputs": [],
   "source": [
    "data.info()"
   ]
  },
  {
   "cell_type": "code",
   "execution_count": null,
   "metadata": {},
   "outputs": [],
   "source": [
    "data.head()"
   ]
  },
  {
   "cell_type": "code",
   "execution_count": null,
   "metadata": {},
   "outputs": [],
   "source": [
    "plt.plot(data['4. close'])"
   ]
  },
  {
   "cell_type": "markdown",
   "metadata": {},
   "source": [
    "### 5. Rename Columns and Add Separate Date and Time Columns"
   ]
  },
  {
   "cell_type": "code",
   "execution_count": null,
   "metadata": {},
   "outputs": [],
   "source": [
    "columns = ['open', 'high', 'low', 'close', 'volume']\n",
    "data.columns = columns"
   ]
  },
  {
   "cell_type": "code",
   "execution_count": null,
   "metadata": {},
   "outputs": [],
   "source": [
    "data['TradeDate'] = data.index.date\n",
    "data['time'] = data.index.time"
   ]
  },
  {
   "cell_type": "code",
   "execution_count": null,
   "metadata": {},
   "outputs": [],
   "source": [
    "data.loc['823-09-30']"
   ]
  },
  {
   "cell_type": "code",
   "execution_count": null,
   "metadata": {},
   "outputs": [],
   "source": [
    "market = data.between_time('09:30:00', '16:00:00').copy()\n",
    "market.sort_index(inplace=True)\n",
    "market.info()"
   ]
  },
  {
   "cell_type": "code",
   "execution_count": null,
   "metadata": {},
   "outputs": [],
   "source": [
    "market.groupby('TradeDate').agg({'low':min, 'high':max})"
   ]
  },
  {
   "cell_type": "code",
   "execution_count": null,
   "metadata": {},
   "outputs": [],
   "source": [
    "market.loc[market.groupby('TradeDate')['low'].idxmin()]"
   ]
  },
  {
   "cell_type": "code",
   "execution_count": null,
   "metadata": {},
   "outputs": [],
   "source": [
    "market.loc[market.groupby('TradeDate')['high'].idxmax()]"
   ]
  },
  {
   "cell_type": "code",
   "execution_count": 12,
   "metadata": {},
   "outputs": [
    {
     "name": "stdout",
     "output_type": "stream",
     "text": [
      "[*********************100%%**********************]  1 of 1 completed\n"
     ]
    },
    {
     "data": {
      "text/plain": [
       "'stock_plot.html'"
      ]
     },
     "execution_count": 12,
     "metadata": {},
     "output_type": "execute_result"
    }
   ],
   "source": [
    "import requests\n",
    "import pandas as pd\n",
    "from datetime import datetime\n",
    "import plotly.graph_objs as go\n",
    "import yfinance as yf\n",
    "import plotly.offline as pyo\n",
    "\n",
    "symbol = 'IBM'\n",
    "end_date = datetime.now()\n",
    "start_date = end_date - pd.DateOffset(months=15)\n",
    "\n",
    "stock_df = yf.download(symbol, start=start_date, end=end_date)\n",
    "\n",
    "url_13 = f'https://www.alphavantage.co/query?function=SMA&symbol=IBM&interval=weekly&time_period=13&series_type=close&apikey={key}'\n",
    "response_13 = requests.get(url_13)\n",
    "data_13 = response_13.json()\n",
    "sma_data_13 = data_13[\"Technical Analysis: SMA\"]\n",
    "\n",
    "sma_df_13 = pd.DataFrame(sma_data_13).T\n",
    "sma_df_13.index = pd.to_datetime(sma_df_13.index)\n",
    "sma_df_13 = sma_df_13.sort_index()\n",
    "\n",
    "url_8 = f'https://www.alphavantage.co/query?function=SMA&symbol=IBM&interval=weekly&time_period=8&series_type=close&apikey={key}'\n",
    "response_8 = requests.get(url_8)\n",
    "data_8 = response_8.json()\n",
    "sma_data_8 = data_8[\"Technical Analysis: SMA\"]\n",
    "\n",
    "sma_df_8 = pd.DataFrame(sma_data_8).T\n",
    "sma_df_8.index = pd.to_datetime(sma_df_8.index)\n",
    "sma_df_8 = sma_df_8.sort_index()\n",
    "\n",
    "end_date = datetime.now()\n",
    "start_date = end_date - pd.DateOffset(months=15)\n",
    "sma_df_13 = sma_df_13[(sma_df_13.index >= start_date) & (sma_df_13.index <= end_date)]\n",
    "sma_df_8 = sma_df_8[(sma_df_8.index >= start_date) & (sma_df_8.index <= end_date)]\n",
    "\n",
    "fig = go.Figure()\n",
    "\n",
    "fig.add_trace(go.Scatter(x=sma_df_13.index, y=sma_df_13['SMA'], mode='lines', name='13-day SMA'))\n",
    "fig.add_trace(go.Scatter(x=sma_df_8.index, y=sma_df_8['SMA'], mode='lines', name='8-day SMA'))\n",
    "fig.add_trace(go.Scatter(x=stock_df.index, y=stock_df['Close'], mode='lines', name='Actual Stock', line=dict(color='green')))\n",
    "\n",
    "\n",
    "crossover_signals = []\n",
    "\n",
    "previous_signal = None  \n",
    "for date, row_13, row_8 in zip(sma_df_13.index, sma_df_13['SMA'], sma_df_8['SMA']):\n",
    "    if row_8 > row_13:\n",
    "        signal = 'Buy Signal'\n",
    "    else:\n",
    "        signal = 'Sell Signal'\n",
    "    \n",
    "    if signal != previous_signal:\n",
    "        crossover_signals.append((date, signal, row_8))\n",
    "        previous_signal = signal\n",
    "\n",
    "buy_dates = [point[0] for point in crossover_signals if point[1] == 'Buy Signal']\n",
    "sell_dates = [point[0] for point in crossover_signals if point[1] == 'Sell Signal']\n",
    "\n",
    "fig.add_trace(go.Scatter(x=buy_dates, y=[sma_df_8.loc[date, 'SMA'] for date in buy_dates], \n",
    "                         mode='markers', name='Buy Signal', marker=dict(color='green')))\n",
    "fig.add_trace(go.Scatter(x=sell_dates, y=[sma_df_8.loc[date, 'SMA'] for date in sell_dates], \n",
    "                         mode='markers', name='Sell Signal', marker=dict(color='red')))\n",
    "\n",
    "crossover_annotations = []\n",
    "\n",
    "for point in crossover_signals:\n",
    "    if point[1] == 'Buy Signal':\n",
    "        color = 'green'\n",
    "    else:\n",
    "        color = 'red'\n",
    "    \n",
    "    annotation = dict(\n",
    "        x=point[0],\n",
    "        y=point[2],\n",
    "        xref='x',\n",
    "        yref='y',\n",
    "        text=point[1],\n",
    "        showarrow=True,\n",
    "        arrowhead=5,\n",
    "        ax=0,\n",
    "        ay=-30,\n",
    "        bgcolor=color,\n",
    "    )\n",
    "    crossover_annotations.append(annotation)\n",
    "\n",
    "# Save the figure as an HTML file\n",
    "pyo.plot(fig, filename='stock_plot.html')\n"
   ]
  },
  {
   "cell_type": "markdown",
   "metadata": {},
   "source": []
  }
 ],
 "metadata": {
  "kernelspec": {
   "display_name": "Python 3",
   "language": "python",
   "name": "python3"
  },
  "language_info": {
   "codemirror_mode": {
    "name": "ipython",
    "version": 3
   },
   "file_extension": ".py",
   "mimetype": "text/x-python",
   "name": "python",
   "nbconvert_exporter": "python",
   "pygments_lexer": "ipython3",
   "version": "3.11.1"
  }
 },
 "nbformat": 4,
 "nbformat_minor": 4
}
